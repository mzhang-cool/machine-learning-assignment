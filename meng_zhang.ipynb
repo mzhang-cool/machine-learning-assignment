{
 "cells": [
  {
   "cell_type": "code",
   "execution_count": 1,
   "metadata": {},
   "outputs": [],
   "source": [
    "import pandas as pd\n",
    "import numpy as np\n",
    "import pickle\n",
    "from sklearn.model_selection import train_test_split\n",
    "from sklearn.ensemble import RandomForestClassifier\n",
    "from imblearn.over_sampling import SMOTE, ADASYN\n",
    "from imblearn.under_sampling import RandomUnderSampler\n",
    "from imblearn.pipeline import Pipeline\n",
    "from sklearn import metrics\n",
    "from sklearn.metrics import precision_recall_fscore_support as score\n",
    "from sklearn.metrics import accuracy_score as acs\n",
    "from sklearn.feature_selection import SelectFromModel\n",
    "from sklearn.impute import KNNImputer"
   ]
  },
  {
   "cell_type": "code",
   "execution_count": 2,
   "metadata": {},
   "outputs": [],
   "source": [
    "path_2_train_file = '/Users/zhangmeng/Desktop/study/ESCP_SEP/machine learning with python/individual/train.csv'\n",
    "df = pd.read_csv(path_2_train_file)"
   ]
  },
  {
   "cell_type": "code",
   "execution_count": 3,
   "metadata": {},
   "outputs": [],
   "source": [
    "df.columns\n",
    "df.label = (df.label > 0)*1"
   ]
  },
  {
   "cell_type": "code",
   "execution_count": null,
   "metadata": {},
   "outputs": [],
   "source": []
  },
  {
   "cell_type": "code",
   "execution_count": 4,
   "metadata": {},
   "outputs": [
    {
     "data": {
      "text/plain": [
       "2303407174    24113\n",
       "1342367140     4123\n",
       "2411180110     1420\n",
       "730319316       940\n",
       "3649211661      764\n",
       "549342611        68\n",
       "Name: C7, dtype: int64"
      ]
     },
     "execution_count": 4,
     "metadata": {},
     "output_type": "execute_result"
    }
   ],
   "source": [
    "df.C7.value_counts()"
   ]
  },
  {
   "cell_type": "code",
   "execution_count": 8,
   "metadata": {},
   "outputs": [],
   "source": [
    "dff = df.drop(columns=['id','visitTime','purchaseTime','C1','C2','C3','C10','hour','C4','C5','C6','C8','C11','C12'])"
   ]
  },
  {
   "cell_type": "code",
   "execution_count": 9,
   "metadata": {},
   "outputs": [],
   "source": [
    "my_cat = ['C7','C9']"
   ]
  },
  {
   "cell_type": "code",
   "execution_count": 10,
   "metadata": {},
   "outputs": [],
   "source": [
    "dff[my_cat] = dff[my_cat].astype('category')"
   ]
  },
  {
   "cell_type": "code",
   "execution_count": 11,
   "metadata": {},
   "outputs": [
    {
     "data": {
      "text/plain": [
       "Index(['label', 'C7', 'N1', 'C9', 'N2', 'N3', 'N4', 'N5', 'N6', 'N7', 'N8',\n",
       "       'N9', 'N10'],\n",
       "      dtype='object')"
      ]
     },
     "execution_count": 11,
     "metadata": {},
     "output_type": "execute_result"
    }
   ],
   "source": [
    "dff.columns"
   ]
  },
  {
   "cell_type": "code",
   "execution_count": 12,
   "metadata": {},
   "outputs": [],
   "source": [
    "dff=pd.get_dummies(dff) "
   ]
  },
  {
   "cell_type": "code",
   "execution_count": 13,
   "metadata": {},
   "outputs": [],
   "source": [
    "my_num = ['N1','N2','N3', 'N4', 'N5', 'N6','N7', 'N8', 'N9', 'N10']"
   ]
  },
  {
   "cell_type": "code",
   "execution_count": 14,
   "metadata": {},
   "outputs": [],
   "source": [
    "imputer = KNNImputer(n_neighbors=10)\n",
    "dff[my_num] = imputer.fit_transform(dff[my_num])"
   ]
  },
  {
   "cell_type": "code",
   "execution_count": 15,
   "metadata": {},
   "outputs": [
    {
     "data": {
      "text/plain": [
       "77"
      ]
     },
     "execution_count": 15,
     "metadata": {},
     "output_type": "execute_result"
    }
   ],
   "source": [
    "len(dff.columns)"
   ]
  },
  {
   "cell_type": "code",
   "execution_count": 16,
   "metadata": {},
   "outputs": [
    {
     "data": {
      "text/html": [
       "<div>\n",
       "<style scoped>\n",
       "    .dataframe tbody tr th:only-of-type {\n",
       "        vertical-align: middle;\n",
       "    }\n",
       "\n",
       "    .dataframe tbody tr th {\n",
       "        vertical-align: top;\n",
       "    }\n",
       "\n",
       "    .dataframe thead th {\n",
       "        text-align: right;\n",
       "    }\n",
       "</style>\n",
       "<table border=\"1\" class=\"dataframe\">\n",
       "  <thead>\n",
       "    <tr style=\"text-align: right;\">\n",
       "      <th></th>\n",
       "      <th>label</th>\n",
       "      <th>N1</th>\n",
       "      <th>N2</th>\n",
       "      <th>N3</th>\n",
       "      <th>N4</th>\n",
       "      <th>N5</th>\n",
       "      <th>N6</th>\n",
       "      <th>N7</th>\n",
       "      <th>N8</th>\n",
       "      <th>N9</th>\n",
       "      <th>...</th>\n",
       "      <th>C9_3623356211</th>\n",
       "      <th>C9_3738539033</th>\n",
       "      <th>C9_3790028721</th>\n",
       "      <th>C9_3828882129</th>\n",
       "      <th>C9_3863488499</th>\n",
       "      <th>C9_3878556116</th>\n",
       "      <th>C9_3898085784</th>\n",
       "      <th>C9_3911032568</th>\n",
       "      <th>C9_4054959403</th>\n",
       "      <th>C9_4287642944</th>\n",
       "    </tr>\n",
       "  </thead>\n",
       "  <tbody>\n",
       "    <tr>\n",
       "      <th>0</th>\n",
       "      <td>0</td>\n",
       "      <td>0.0</td>\n",
       "      <td>0.0</td>\n",
       "      <td>0.0</td>\n",
       "      <td>0.0</td>\n",
       "      <td>0.0</td>\n",
       "      <td>0.0</td>\n",
       "      <td>0.0</td>\n",
       "      <td>0.0</td>\n",
       "      <td>0.0</td>\n",
       "      <td>...</td>\n",
       "      <td>0</td>\n",
       "      <td>0</td>\n",
       "      <td>0</td>\n",
       "      <td>0</td>\n",
       "      <td>0</td>\n",
       "      <td>0</td>\n",
       "      <td>0</td>\n",
       "      <td>0</td>\n",
       "      <td>0</td>\n",
       "      <td>1</td>\n",
       "    </tr>\n",
       "    <tr>\n",
       "      <th>1</th>\n",
       "      <td>0</td>\n",
       "      <td>1.0</td>\n",
       "      <td>0.0</td>\n",
       "      <td>1.0</td>\n",
       "      <td>0.0</td>\n",
       "      <td>0.0</td>\n",
       "      <td>0.0</td>\n",
       "      <td>0.0</td>\n",
       "      <td>1.0</td>\n",
       "      <td>0.0</td>\n",
       "      <td>...</td>\n",
       "      <td>0</td>\n",
       "      <td>0</td>\n",
       "      <td>0</td>\n",
       "      <td>0</td>\n",
       "      <td>0</td>\n",
       "      <td>0</td>\n",
       "      <td>0</td>\n",
       "      <td>0</td>\n",
       "      <td>0</td>\n",
       "      <td>0</td>\n",
       "    </tr>\n",
       "    <tr>\n",
       "      <th>2</th>\n",
       "      <td>0</td>\n",
       "      <td>0.0</td>\n",
       "      <td>0.0</td>\n",
       "      <td>0.0</td>\n",
       "      <td>0.0</td>\n",
       "      <td>0.0</td>\n",
       "      <td>0.0</td>\n",
       "      <td>0.0</td>\n",
       "      <td>0.0</td>\n",
       "      <td>0.0</td>\n",
       "      <td>...</td>\n",
       "      <td>0</td>\n",
       "      <td>0</td>\n",
       "      <td>0</td>\n",
       "      <td>0</td>\n",
       "      <td>0</td>\n",
       "      <td>0</td>\n",
       "      <td>0</td>\n",
       "      <td>0</td>\n",
       "      <td>0</td>\n",
       "      <td>0</td>\n",
       "    </tr>\n",
       "    <tr>\n",
       "      <th>3</th>\n",
       "      <td>0</td>\n",
       "      <td>0.0</td>\n",
       "      <td>0.0</td>\n",
       "      <td>0.0</td>\n",
       "      <td>0.0</td>\n",
       "      <td>0.0</td>\n",
       "      <td>0.0</td>\n",
       "      <td>0.0</td>\n",
       "      <td>0.0</td>\n",
       "      <td>0.0</td>\n",
       "      <td>...</td>\n",
       "      <td>0</td>\n",
       "      <td>0</td>\n",
       "      <td>0</td>\n",
       "      <td>0</td>\n",
       "      <td>0</td>\n",
       "      <td>0</td>\n",
       "      <td>0</td>\n",
       "      <td>0</td>\n",
       "      <td>0</td>\n",
       "      <td>0</td>\n",
       "    </tr>\n",
       "    <tr>\n",
       "      <th>4</th>\n",
       "      <td>0</td>\n",
       "      <td>0.0</td>\n",
       "      <td>0.0</td>\n",
       "      <td>0.0</td>\n",
       "      <td>0.0</td>\n",
       "      <td>0.0</td>\n",
       "      <td>0.0</td>\n",
       "      <td>0.0</td>\n",
       "      <td>0.0</td>\n",
       "      <td>0.0</td>\n",
       "      <td>...</td>\n",
       "      <td>0</td>\n",
       "      <td>0</td>\n",
       "      <td>0</td>\n",
       "      <td>0</td>\n",
       "      <td>0</td>\n",
       "      <td>0</td>\n",
       "      <td>0</td>\n",
       "      <td>0</td>\n",
       "      <td>0</td>\n",
       "      <td>0</td>\n",
       "    </tr>\n",
       "    <tr>\n",
       "      <th>...</th>\n",
       "      <td>...</td>\n",
       "      <td>...</td>\n",
       "      <td>...</td>\n",
       "      <td>...</td>\n",
       "      <td>...</td>\n",
       "      <td>...</td>\n",
       "      <td>...</td>\n",
       "      <td>...</td>\n",
       "      <td>...</td>\n",
       "      <td>...</td>\n",
       "      <td>...</td>\n",
       "      <td>...</td>\n",
       "      <td>...</td>\n",
       "      <td>...</td>\n",
       "      <td>...</td>\n",
       "      <td>...</td>\n",
       "      <td>...</td>\n",
       "      <td>...</td>\n",
       "      <td>...</td>\n",
       "      <td>...</td>\n",
       "      <td>...</td>\n",
       "    </tr>\n",
       "    <tr>\n",
       "      <th>31423</th>\n",
       "      <td>0</td>\n",
       "      <td>0.0</td>\n",
       "      <td>0.0</td>\n",
       "      <td>0.0</td>\n",
       "      <td>0.0</td>\n",
       "      <td>0.0</td>\n",
       "      <td>0.0</td>\n",
       "      <td>0.0</td>\n",
       "      <td>0.0</td>\n",
       "      <td>0.0</td>\n",
       "      <td>...</td>\n",
       "      <td>0</td>\n",
       "      <td>0</td>\n",
       "      <td>0</td>\n",
       "      <td>0</td>\n",
       "      <td>0</td>\n",
       "      <td>0</td>\n",
       "      <td>0</td>\n",
       "      <td>0</td>\n",
       "      <td>0</td>\n",
       "      <td>1</td>\n",
       "    </tr>\n",
       "    <tr>\n",
       "      <th>31424</th>\n",
       "      <td>0</td>\n",
       "      <td>0.0</td>\n",
       "      <td>0.0</td>\n",
       "      <td>0.0</td>\n",
       "      <td>0.0</td>\n",
       "      <td>0.0</td>\n",
       "      <td>0.0</td>\n",
       "      <td>0.0</td>\n",
       "      <td>0.0</td>\n",
       "      <td>0.0</td>\n",
       "      <td>...</td>\n",
       "      <td>0</td>\n",
       "      <td>0</td>\n",
       "      <td>0</td>\n",
       "      <td>0</td>\n",
       "      <td>0</td>\n",
       "      <td>0</td>\n",
       "      <td>0</td>\n",
       "      <td>0</td>\n",
       "      <td>0</td>\n",
       "      <td>1</td>\n",
       "    </tr>\n",
       "    <tr>\n",
       "      <th>31425</th>\n",
       "      <td>0</td>\n",
       "      <td>0.0</td>\n",
       "      <td>0.0</td>\n",
       "      <td>0.0</td>\n",
       "      <td>0.0</td>\n",
       "      <td>0.0</td>\n",
       "      <td>0.0</td>\n",
       "      <td>0.0</td>\n",
       "      <td>0.0</td>\n",
       "      <td>0.0</td>\n",
       "      <td>...</td>\n",
       "      <td>0</td>\n",
       "      <td>0</td>\n",
       "      <td>0</td>\n",
       "      <td>0</td>\n",
       "      <td>0</td>\n",
       "      <td>0</td>\n",
       "      <td>0</td>\n",
       "      <td>0</td>\n",
       "      <td>0</td>\n",
       "      <td>0</td>\n",
       "    </tr>\n",
       "    <tr>\n",
       "      <th>31426</th>\n",
       "      <td>0</td>\n",
       "      <td>0.0</td>\n",
       "      <td>0.0</td>\n",
       "      <td>0.0</td>\n",
       "      <td>0.0</td>\n",
       "      <td>0.0</td>\n",
       "      <td>0.0</td>\n",
       "      <td>0.0</td>\n",
       "      <td>0.0</td>\n",
       "      <td>0.0</td>\n",
       "      <td>...</td>\n",
       "      <td>0</td>\n",
       "      <td>0</td>\n",
       "      <td>0</td>\n",
       "      <td>0</td>\n",
       "      <td>0</td>\n",
       "      <td>0</td>\n",
       "      <td>0</td>\n",
       "      <td>0</td>\n",
       "      <td>0</td>\n",
       "      <td>1</td>\n",
       "    </tr>\n",
       "    <tr>\n",
       "      <th>31427</th>\n",
       "      <td>0</td>\n",
       "      <td>0.0</td>\n",
       "      <td>0.0</td>\n",
       "      <td>0.0</td>\n",
       "      <td>0.0</td>\n",
       "      <td>0.0</td>\n",
       "      <td>0.0</td>\n",
       "      <td>0.0</td>\n",
       "      <td>0.0</td>\n",
       "      <td>0.0</td>\n",
       "      <td>...</td>\n",
       "      <td>0</td>\n",
       "      <td>0</td>\n",
       "      <td>0</td>\n",
       "      <td>0</td>\n",
       "      <td>0</td>\n",
       "      <td>0</td>\n",
       "      <td>0</td>\n",
       "      <td>0</td>\n",
       "      <td>0</td>\n",
       "      <td>1</td>\n",
       "    </tr>\n",
       "  </tbody>\n",
       "</table>\n",
       "<p>31428 rows × 77 columns</p>\n",
       "</div>"
      ],
      "text/plain": [
       "       label   N1   N2   N3   N4   N5   N6   N7   N8   N9  ...  C9_3623356211  \\\n",
       "0          0  0.0  0.0  0.0  0.0  0.0  0.0  0.0  0.0  0.0  ...              0   \n",
       "1          0  1.0  0.0  1.0  0.0  0.0  0.0  0.0  1.0  0.0  ...              0   \n",
       "2          0  0.0  0.0  0.0  0.0  0.0  0.0  0.0  0.0  0.0  ...              0   \n",
       "3          0  0.0  0.0  0.0  0.0  0.0  0.0  0.0  0.0  0.0  ...              0   \n",
       "4          0  0.0  0.0  0.0  0.0  0.0  0.0  0.0  0.0  0.0  ...              0   \n",
       "...      ...  ...  ...  ...  ...  ...  ...  ...  ...  ...  ...            ...   \n",
       "31423      0  0.0  0.0  0.0  0.0  0.0  0.0  0.0  0.0  0.0  ...              0   \n",
       "31424      0  0.0  0.0  0.0  0.0  0.0  0.0  0.0  0.0  0.0  ...              0   \n",
       "31425      0  0.0  0.0  0.0  0.0  0.0  0.0  0.0  0.0  0.0  ...              0   \n",
       "31426      0  0.0  0.0  0.0  0.0  0.0  0.0  0.0  0.0  0.0  ...              0   \n",
       "31427      0  0.0  0.0  0.0  0.0  0.0  0.0  0.0  0.0  0.0  ...              0   \n",
       "\n",
       "       C9_3738539033  C9_3790028721  C9_3828882129  C9_3863488499  \\\n",
       "0                  0              0              0              0   \n",
       "1                  0              0              0              0   \n",
       "2                  0              0              0              0   \n",
       "3                  0              0              0              0   \n",
       "4                  0              0              0              0   \n",
       "...              ...            ...            ...            ...   \n",
       "31423              0              0              0              0   \n",
       "31424              0              0              0              0   \n",
       "31425              0              0              0              0   \n",
       "31426              0              0              0              0   \n",
       "31427              0              0              0              0   \n",
       "\n",
       "       C9_3878556116  C9_3898085784  C9_3911032568  C9_4054959403  \\\n",
       "0                  0              0              0              0   \n",
       "1                  0              0              0              0   \n",
       "2                  0              0              0              0   \n",
       "3                  0              0              0              0   \n",
       "4                  0              0              0              0   \n",
       "...              ...            ...            ...            ...   \n",
       "31423              0              0              0              0   \n",
       "31424              0              0              0              0   \n",
       "31425              0              0              0              0   \n",
       "31426              0              0              0              0   \n",
       "31427              0              0              0              0   \n",
       "\n",
       "       C9_4287642944  \n",
       "0                  1  \n",
       "1                  0  \n",
       "2                  0  \n",
       "3                  0  \n",
       "4                  0  \n",
       "...              ...  \n",
       "31423              1  \n",
       "31424              1  \n",
       "31425              0  \n",
       "31426              1  \n",
       "31427              1  \n",
       "\n",
       "[31428 rows x 77 columns]"
      ]
     },
     "execution_count": 16,
     "metadata": {},
     "output_type": "execute_result"
    }
   ],
   "source": [
    "dff.dropna()"
   ]
  },
  {
   "cell_type": "code",
   "execution_count": 17,
   "metadata": {},
   "outputs": [],
   "source": [
    "Y = dff.label"
   ]
  },
  {
   "cell_type": "code",
   "execution_count": 18,
   "metadata": {},
   "outputs": [],
   "source": [
    "X = dff.drop(['label'],axis = 1)"
   ]
  },
  {
   "cell_type": "markdown",
   "metadata": {},
   "source": [
    "# Split data into training and testing"
   ]
  },
  {
   "cell_type": "code",
   "execution_count": 19,
   "metadata": {},
   "outputs": [],
   "source": [
    "X_train, X_test, Y_train, Y_test = train_test_split(X,Y,test_size=0.2,random_state=666,shuffle=True,stratify=Y)\n",
    "Train=X_train.join(Y_train)"
   ]
  },
  {
   "cell_type": "code",
   "execution_count": 20,
   "metadata": {},
   "outputs": [
    {
     "data": {
      "text/plain": [
       "0    25096\n",
       "1       46\n",
       "Name: label, dtype: int64"
      ]
     },
     "execution_count": 20,
     "metadata": {},
     "output_type": "execute_result"
    }
   ],
   "source": [
    "Y_train.value_counts()"
   ]
  },
  {
   "cell_type": "code",
   "execution_count": 21,
   "metadata": {},
   "outputs": [
    {
     "name": "stdout",
     "output_type": "stream",
     "text": [
      "76\n"
     ]
    }
   ],
   "source": [
    "print(len(X_train.columns))"
   ]
  },
  {
   "cell_type": "markdown",
   "metadata": {},
   "source": [
    "## resampling"
   ]
  },
  {
   "cell_type": "code",
   "execution_count": 171,
   "metadata": {},
   "outputs": [],
   "source": [
    "\n",
    "# oversampling minority then undersampling majority\n",
    "over = SMOTE(sampling_strategy=0.02,random_state=666)\n",
    "under = RandomUnderSampler(sampling_strategy=0.02,random_state=666)\n",
    "steps = [('o', over), ('u', under)]\n",
    "pipeline = Pipeline(steps=steps)\n",
    "#create X_totrain and Y_totrain in order to train the model\n",
    "X_totrain, Y_totrain = pipeline.fit_resample(X_train, Y_train)"
   ]
  },
  {
   "cell_type": "code",
   "execution_count": 172,
   "metadata": {},
   "outputs": [
    {
     "data": {
      "text/plain": [
       "0    25050\n",
       "1      501\n",
       "Name: label, dtype: int64"
      ]
     },
     "execution_count": 172,
     "metadata": {},
     "output_type": "execute_result"
    }
   ],
   "source": [
    "Y_totrain.value_counts()"
   ]
  },
  {
   "cell_type": "code",
   "execution_count": null,
   "metadata": {},
   "outputs": [],
   "source": []
  },
  {
   "cell_type": "markdown",
   "metadata": {},
   "source": [
    "## modeling, play with several models and choose random forest finally"
   ]
  },
  {
   "cell_type": "code",
   "execution_count": 174,
   "metadata": {},
   "outputs": [
    {
     "name": "stdout",
     "output_type": "stream",
     "text": [
      "Training\n",
      "0.999681807334341\n",
      "              precision    recall  f1-score   support\n",
      "\n",
      "           0       1.00      1.00      1.00     25096\n",
      "           1       1.00      0.83      0.90        46\n",
      "\n",
      "    accuracy                           1.00     25142\n",
      "   macro avg       1.00      0.91      0.95     25142\n",
      "weighted avg       1.00      1.00      1.00     25142\n",
      "\n",
      "\n",
      "\n",
      "Testing\n",
      "0.999522748965956\n",
      "              precision    recall  f1-score   support\n",
      "\n",
      "           0       1.00      1.00      1.00      6275\n",
      "           1       1.00      0.73      0.84        11\n",
      "\n",
      "    accuracy                           1.00      6286\n",
      "   macro avg       1.00      0.86      0.92      6286\n",
      "weighted avg       1.00      1.00      1.00      6286\n",
      "\n",
      "Variable: N10                  Importance: 0.3\n",
      "Variable: N9                   Importance: 0.23\n",
      "Variable: N6                   Importance: 0.16\n",
      "Variable: N8                   Importance: 0.08\n",
      "Variable: N3                   Importance: 0.05\n",
      "Variable: N4                   Importance: 0.04\n",
      "Variable: N1                   Importance: 0.03\n",
      "Variable: C7_2303407174        Importance: 0.02\n",
      "Variable: N2                   Importance: 0.01\n",
      "Variable: N7                   Importance: 0.01\n",
      "Variable: C7_730319316         Importance: 0.01\n",
      "Variable: C7_1342367140        Importance: 0.01\n",
      "Variable: C7_2411180110        Importance: 0.01\n",
      "Variable: C9_14692648          Importance: 0.01\n",
      "Variable: C9_1421481761        Importance: 0.01\n",
      "Variable: C9_3911032568        Importance: 0.01\n",
      "Variable: N5                   Importance: 0.0\n",
      "Variable: C7_549342611         Importance: 0.0\n",
      "Variable: C7_3649211661        Importance: 0.0\n",
      "Variable: C9_114495992         Importance: 0.0\n",
      "Variable: C9_138171148         Importance: 0.0\n",
      "Variable: C9_385980380         Importance: 0.0\n",
      "Variable: C9_387474876         Importance: 0.0\n",
      "Variable: C9_399159304         Importance: 0.0\n",
      "Variable: C9_477276257         Importance: 0.0\n",
      "Variable: C9_481692728         Importance: 0.0\n",
      "Variable: C9_561243158         Importance: 0.0\n",
      "Variable: C9_564075893         Importance: 0.0\n",
      "Variable: C9_659463149         Importance: 0.0\n",
      "Variable: C9_681031001         Importance: 0.0\n",
      "Variable: C9_759851699         Importance: 0.0\n",
      "Variable: C9_833114062         Importance: 0.0\n",
      "Variable: C9_986337892         Importance: 0.0\n",
      "Variable: C9_999411610         Importance: 0.0\n",
      "Variable: C9_1097313503        Importance: 0.0\n",
      "Variable: C9_1109321325        Importance: 0.0\n",
      "Variable: C9_1266140471        Importance: 0.0\n",
      "Variable: C9_1292559885        Importance: 0.0\n",
      "Variable: C9_1314204074        Importance: 0.0\n",
      "Variable: C9_1627260059        Importance: 0.0\n",
      "Variable: C9_1681548983        Importance: 0.0\n",
      "Variable: C9_1690004026        Importance: 0.0\n",
      "Variable: C9_2013640318        Importance: 0.0\n",
      "Variable: C9_2088887026        Importance: 0.0\n",
      "Variable: C9_2226682598        Importance: 0.0\n",
      "Variable: C9_2286807896        Importance: 0.0\n",
      "Variable: C9_2447802683        Importance: 0.0\n",
      "Variable: C9_2505381470        Importance: 0.0\n",
      "Variable: C9_2511982975        Importance: 0.0\n",
      "Variable: C9_2598915713        Importance: 0.0\n",
      "Variable: C9_2698786965        Importance: 0.0\n",
      "Variable: C9_2711086415        Importance: 0.0\n",
      "Variable: C9_2998031433        Importance: 0.0\n",
      "Variable: C9_3023418412        Importance: 0.0\n",
      "Variable: C9_3114503497        Importance: 0.0\n",
      "Variable: C9_3179660634        Importance: 0.0\n",
      "Variable: C9_3201792078        Importance: 0.0\n",
      "Variable: C9_3208948300        Importance: 0.0\n",
      "Variable: C9_3272771221        Importance: 0.0\n",
      "Variable: C9_3310009198        Importance: 0.0\n",
      "Variable: C9_3311238116        Importance: 0.0\n",
      "Variable: C9_3329757940        Importance: 0.0\n",
      "Variable: C9_3427046189        Importance: 0.0\n",
      "Variable: C9_3447573537        Importance: 0.0\n",
      "Variable: C9_3595738046        Importance: 0.0\n",
      "Variable: C9_3597794575        Importance: 0.0\n",
      "Variable: C9_3598157468        Importance: 0.0\n",
      "Variable: C9_3623356211        Importance: 0.0\n",
      "Variable: C9_3738539033        Importance: 0.0\n",
      "Variable: C9_3790028721        Importance: 0.0\n",
      "Variable: C9_3828882129        Importance: 0.0\n",
      "Variable: C9_3863488499        Importance: 0.0\n",
      "Variable: C9_3878556116        Importance: 0.0\n",
      "Variable: C9_3898085784        Importance: 0.0\n",
      "Variable: C9_4054959403        Importance: 0.0\n",
      "Variable: C9_4287642944        Importance: 0.0\n"
     ]
    },
    {
     "data": {
      "text/plain": [
       "[None,\n",
       " None,\n",
       " None,\n",
       " None,\n",
       " None,\n",
       " None,\n",
       " None,\n",
       " None,\n",
       " None,\n",
       " None,\n",
       " None,\n",
       " None,\n",
       " None,\n",
       " None,\n",
       " None,\n",
       " None,\n",
       " None,\n",
       " None,\n",
       " None,\n",
       " None,\n",
       " None,\n",
       " None,\n",
       " None,\n",
       " None,\n",
       " None,\n",
       " None,\n",
       " None,\n",
       " None,\n",
       " None,\n",
       " None,\n",
       " None,\n",
       " None,\n",
       " None,\n",
       " None,\n",
       " None,\n",
       " None,\n",
       " None,\n",
       " None,\n",
       " None,\n",
       " None,\n",
       " None,\n",
       " None,\n",
       " None,\n",
       " None,\n",
       " None,\n",
       " None,\n",
       " None,\n",
       " None,\n",
       " None,\n",
       " None,\n",
       " None,\n",
       " None,\n",
       " None,\n",
       " None,\n",
       " None,\n",
       " None,\n",
       " None,\n",
       " None,\n",
       " None,\n",
       " None,\n",
       " None,\n",
       " None,\n",
       " None,\n",
       " None,\n",
       " None,\n",
       " None,\n",
       " None,\n",
       " None,\n",
       " None,\n",
       " None,\n",
       " None,\n",
       " None,\n",
       " None,\n",
       " None,\n",
       " None,\n",
       " None]"
      ]
     },
     "execution_count": 174,
     "metadata": {},
     "output_type": "execute_result"
    }
   ],
   "source": [
    "print('Training')\n",
    "# evaluate each model in turn\n",
    "results = []\n",
    "names = []\n",
    "rf = RandomForestClassifier(max_depth = 15, random_state=666,max_leaf_nodes=60)\n",
    "rf = rf.fit(X_totrain, Y_totrain)\n",
    "train_pred = rf.predict(X_train)\n",
    "print(metrics.accuracy_score(Y_train,train_pred))\n",
    "print(metrics.classification_report(Y_train,train_pred))\n",
    "\n",
    "\n",
    "print('\\n')\n",
    "\n",
    "print('Testing')\n",
    "\n",
    "\n",
    "y_pred = rf.predict(X_test)\n",
    "#Evaluate predictions\n",
    "print(metrics.accuracy_score(Y_test,y_pred))\n",
    "print(metrics.classification_report(Y_test,y_pred))\n",
    "\n",
    "# Get numerical feature importances\n",
    "feature_list = X.columns\n",
    "importances = list(rf.feature_importances_)\n",
    "# List of tuples with variable and importance\n",
    "feature_importances = [(feature, round(importance, 2)) for feature, importance in zip(feature_list, importances)]\n",
    "# Sort the feature importances by most important first\n",
    "feature_importances = sorted(feature_importances, key = lambda x: x[1], reverse = True)\n",
    "# Print out the feature and importances \n",
    "[print('Variable: {:20} Importance: {}'.format(*pair)) for pair in feature_importances]"
   ]
  },
  {
   "cell_type": "markdown",
   "metadata": {},
   "source": [
    "## Now let's select features and rebuild a better one"
   ]
  },
  {
   "cell_type": "code",
   "execution_count": 175,
   "metadata": {},
   "outputs": [
    {
     "data": {
      "text/plain": [
       "SelectFromModel(estimator=RandomForestClassifier(bootstrap=True, ccp_alpha=0.0,\n",
       "                                                 class_weight=None,\n",
       "                                                 criterion='gini', max_depth=15,\n",
       "                                                 max_features='auto',\n",
       "                                                 max_leaf_nodes=60,\n",
       "                                                 max_samples=None,\n",
       "                                                 min_impurity_decrease=0.0,\n",
       "                                                 min_impurity_split=None,\n",
       "                                                 min_samples_leaf=1,\n",
       "                                                 min_samples_split=2,\n",
       "                                                 min_weight_fraction_leaf=0.0,\n",
       "                                                 n_estimators=100, n_jobs=None,\n",
       "                                                 oob_score=False,\n",
       "                                                 random_state=666, verbose=0,\n",
       "                                                 warm_start=False),\n",
       "                max_features=None, norm_order=1, prefit=False, threshold=0.001)"
      ]
     },
     "execution_count": 175,
     "metadata": {},
     "output_type": "execute_result"
    }
   ],
   "source": [
    "# Create a selector object that will use the random forest classifier to identify\n",
    "# features that have an importance of more than 0.002\n",
    "sfm = SelectFromModel(rf, threshold=0.001)\n",
    "\n",
    "# Train the selector\n",
    "sfm.fit(X_totrain, Y_totrain)"
   ]
  },
  {
   "cell_type": "code",
   "execution_count": 176,
   "metadata": {},
   "outputs": [
    {
     "name": "stdout",
     "output_type": "stream",
     "text": [
      "N1\n",
      "N2\n",
      "N3\n",
      "N4\n",
      "N5\n",
      "N6\n",
      "N7\n",
      "N8\n",
      "N9\n",
      "N10\n",
      "C7_730319316\n",
      "C7_1342367140\n",
      "C7_2303407174\n",
      "C7_2411180110\n",
      "C7_3649211661\n",
      "C9_14692648\n",
      "C9_385980380\n",
      "C9_399159304\n",
      "C9_477276257\n",
      "C9_1421481761\n",
      "C9_1690004026\n",
      "C9_2226682598\n",
      "C9_2698786965\n",
      "C9_2711086415\n",
      "C9_3272771221\n",
      "C9_3310009198\n",
      "C9_3329757940\n",
      "C9_3598157468\n",
      "C9_3911032568\n",
      "C9_4287642944\n"
     ]
    }
   ],
   "source": [
    "# Print the names of the most important features\n",
    "my_list = []\n",
    "for feature_list_index in sfm.get_support(indices=True):\n",
    "    print(X.columns[feature_list_index])\n",
    "    my_list.append(X.columns[feature_list_index])"
   ]
  },
  {
   "cell_type": "code",
   "execution_count": null,
   "metadata": {},
   "outputs": [],
   "source": []
  },
  {
   "cell_type": "code",
   "execution_count": 184,
   "metadata": {},
   "outputs": [
    {
     "name": "stdout",
     "output_type": "stream",
     "text": [
      "train\n",
      "0.9967515948495167\n",
      "              precision    recall  f1-score   support\n",
      "\n",
      "           0       1.00      1.00      1.00     25050\n",
      "           1       0.98      0.85      0.91       501\n",
      "\n",
      "    accuracy                           1.00     25551\n",
      "   macro avg       0.99      0.92      0.95     25551\n",
      "weighted avg       1.00      1.00      1.00     25551\n",
      "\n",
      "test\n",
      "0.999522748965956\n",
      "              precision    recall  f1-score   support\n",
      "\n",
      "           0       1.00      1.00      1.00      6275\n",
      "           1       0.90      0.82      0.86        11\n",
      "\n",
      "    accuracy                           1.00      6286\n",
      "   macro avg       0.95      0.91      0.93      6286\n",
      "weighted avg       1.00      1.00      1.00      6286\n",
      "\n"
     ]
    }
   ],
   "source": [
    "X_important_train = sfm.transform(X_totrain)\n",
    "X_important_test = sfm.transform(X_test)\n",
    "# Create a new random forest classifier for the most important features\n",
    "clf_important = RandomForestClassifier(max_depth = 13, random_state=666, n_estimators = 500 ,max_leaf_nodes = 14)\n",
    "\n",
    "# Train the new classifier on the new dataset containing the most important features\n",
    "clf_important.fit(X_important_train, Y_totrain)\n",
    "y_important_pred = clf_important.predict(X_important_train)\n",
    "print('train')\n",
    "print(metrics.accuracy_score(Y_totrain,y_important_pred))\n",
    "\n",
    "print(metrics.classification_report(Y_totrain,y_important_pred))\n",
    "print('test')\n",
    "y_important_test_pred = clf_important.predict(X_important_test)\n",
    "print(metrics.accuracy_score(Y_test,y_important_test_pred))\n",
    "print(metrics.classification_report(Y_test,y_important_test_pred))"
   ]
  },
  {
   "cell_type": "code",
   "execution_count": 41,
   "metadata": {},
   "outputs": [],
   "source": []
  },
  {
   "cell_type": "code",
   "execution_count": 51,
   "metadata": {},
   "outputs": [
    {
     "data": {
      "text/plain": [
       "['N1',\n",
       " 'N2',\n",
       " 'N3',\n",
       " 'N4',\n",
       " 'N6',\n",
       " 'N7',\n",
       " 'N8',\n",
       " 'N9',\n",
       " 'N10',\n",
       " 'C7_730319316',\n",
       " 'C7_1342367140',\n",
       " 'C7_2303407174',\n",
       " 'C9_14692648',\n",
       " 'C9_1421481761',\n",
       " 'C9_3310009198',\n",
       " 'C9_3911032568',\n",
       " 'C9_4287642944']"
      ]
     },
     "execution_count": 51,
     "metadata": {},
     "output_type": "execute_result"
    }
   ],
   "source": [
    "my_list"
   ]
  },
  {
   "cell_type": "markdown",
   "metadata": {},
   "source": [
    "# Save model"
   ]
  },
  {
   "cell_type": "code",
   "execution_count": 33,
   "metadata": {},
   "outputs": [],
   "source": [
    "# save\n",
    "filename = '/Users/zhangmeng/Desktop/study/ESCP_SEP/machine learning with python/individual/my_model.sav'\n",
    "pickle.dump(clf_important, open(filename, 'wb'))\n",
    "# load the model from disk\n",
    "loaded_model = pickle.load(open(filename, 'rb'))"
   ]
  },
  {
   "cell_type": "code",
   "execution_count": 86,
   "metadata": {},
   "outputs": [],
   "source": [
    "dftest = pd.read_csv(\"/Users/zhangmeng/Desktop/study/ESCP_SEP/machine learning with python/individual/test1.csv\", encoding='utf8')"
   ]
  },
  {
   "cell_type": "code",
   "execution_count": 87,
   "metadata": {},
   "outputs": [],
   "source": [
    "dfftest = dftest.drop(columns=['id','visitTime','purchaseTime','C1','C2','C3','C10','hour','C4','C5','C6','C8','C11','C12'])"
   ]
  },
  {
   "cell_type": "code",
   "execution_count": 88,
   "metadata": {},
   "outputs": [],
   "source": [
    "my_cat = ['C7','C9']"
   ]
  },
  {
   "cell_type": "code",
   "execution_count": 89,
   "metadata": {},
   "outputs": [],
   "source": [
    "dfftest[my_cat] = dfftest[my_cat].astype('category')"
   ]
  },
  {
   "cell_type": "code",
   "execution_count": 90,
   "metadata": {},
   "outputs": [],
   "source": [
    "dfftest=pd.get_dummies(dfftest) "
   ]
  },
  {
   "cell_type": "code",
   "execution_count": 91,
   "metadata": {},
   "outputs": [],
   "source": [
    "dfftest = dfftest[my_list]"
   ]
  },
  {
   "cell_type": "code",
   "execution_count": 92,
   "metadata": {},
   "outputs": [],
   "source": [
    "dftest['prob0'],dftest['prob1'] =loaded_model.predict_proba(dfftest)[0:,0], loaded_model.predict_proba(dfftest)[0:,1]"
   ]
  },
  {
   "cell_type": "code",
   "execution_count": 94,
   "metadata": {},
   "outputs": [],
   "source": [
    "dftest = dftest[['id','prob0']]"
   ]
  },
  {
   "cell_type": "code",
   "execution_count": 101,
   "metadata": {},
   "outputs": [],
   "source": [
    "dftest.to_csv('/Users/zhangmeng/Desktop/study/ESCP_SEP/machine learning with python/individual/meng_result.csv')"
   ]
  },
  {
   "cell_type": "markdown",
   "metadata": {},
   "source": []
  },
  {
   "cell_type": "code",
   "execution_count": null,
   "metadata": {},
   "outputs": [],
   "source": []
  }
 ],
 "metadata": {
  "kernelspec": {
   "display_name": "Python 3",
   "language": "python",
   "name": "python3"
  },
  "language_info": {
   "codemirror_mode": {
    "name": "ipython",
    "version": 3
   },
   "file_extension": ".py",
   "mimetype": "text/x-python",
   "name": "python",
   "nbconvert_exporter": "python",
   "pygments_lexer": "ipython3",
   "version": "3.8.0"
  }
 },
 "nbformat": 4,
 "nbformat_minor": 2
}
